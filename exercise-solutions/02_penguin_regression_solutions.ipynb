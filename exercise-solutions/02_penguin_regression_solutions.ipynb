{
 "cells": [
  {
   "cell_type": "markdown",
   "metadata": {},
   "source": [
    "# Exercise 2: Penguin regression with PyTorch\n",
    "\n",
    "<img src=\"https://allisonhorst.github.io/palmerpenguins/reference/figures/lter_penguins.png\" width=\"750\" />\n",
    "\n",
    "\n",
    "Artwork by @allison_horst\n",
    "\n",
    "In this exercise, we will again use the [``palmerpenguins``](https://github.com/mcnakhaee/palmerpenguins) data to continue our exploration of PyTorch.\n",
    "\n",
    "We will use the same dataset object as before, but this time we'll take a look at a regression problem: predicting the mass of a penguin given other physical features."
   ]
  },
  {
   "cell_type": "markdown",
   "metadata": {},
   "source": [
    "### Task 1: look at the data\n",
    "In the following code block, we import the ``load_penguins`` function from the ``palmerpenguins`` package.\n",
    "\n",
    "- Load the penguin data as you did before.\n",
    "- This time, consider which features we might like to use to predict a penguin's mass."
   ]
  },
  {
   "cell_type": "code",
   "execution_count": 1,
   "metadata": {},
   "outputs": [
    {
     "name": "stdout",
     "output_type": "stream",
     "text": [
      "       bill_length_mm  bill_depth_mm  flipper_length_mm  body_mass_g  \\\n",
      "count      342.000000     342.000000         342.000000   342.000000   \n",
      "mean        43.921930      17.151170         200.915205  4201.754386   \n",
      "std          5.459584       1.974793          14.061714   801.954536   \n",
      "min         32.100000      13.100000         172.000000  2700.000000   \n",
      "25%         39.225000      15.600000         190.000000  3550.000000   \n",
      "50%         44.450000      17.300000         197.000000  4050.000000   \n",
      "75%         48.500000      18.700000         213.000000  4750.000000   \n",
      "max         59.600000      21.500000         231.000000  6300.000000   \n",
      "\n",
      "              year  \n",
      "count   344.000000  \n",
      "mean   2008.029070  \n",
      "std       0.818356  \n",
      "min    2007.000000  \n",
      "25%    2007.000000  \n",
      "50%    2008.000000  \n",
      "75%    2009.000000  \n",
      "max    2009.000000  \n",
      "Index(['species', 'island', 'bill_length_mm', 'bill_depth_mm',\n",
      "       'flipper_length_mm', 'body_mass_g', 'sex', 'year'],\n",
      "      dtype='object')\n"
     ]
    }
   ],
   "source": [
    "from palmerpenguins import load_penguins\n",
    "\n",
    "data = load_penguins()\n",
    "\n",
    "# Note: ``pd.DataFrame.describe`` is a useful function for giving an overiew\n",
    "# of what a ``pd.DataFrame`` contains.\n",
    "print(data.describe())\n",
    "\n",
    "print(data.keys())"
   ]
  },
  {
   "cell_type": "markdown",
   "metadata": {},
   "source": [
    "Let's now disuss the features we will use to classify the penguins' species, and populate the following list together:\n",
    "\n",
    "#### Let's use:\n",
    "\n",
    "- ``\"species\"``\n",
    "    - Perhaps the most relevant aspect from which to estimate mass.\n",
    "- ``\"sex\"``\n",
    "    - Biologically relevant.\n",
    "- ``\"bill_length_mm\"``\n",
    "    - Biologically relevant.\n",
    "- ``\"bill_depth_mm\"``\n",
    "    - Biologically relevant.\n",
    "- ``flipper_length_mm``\n",
    "    - Biologically relevant.\n",
    "\n",
    "#### Let's reject\n",
    "- ``\"island\"``\n",
    "    - While island could be predictive if dominated by a particular species it would be acting as a proxy and we have already included species as an input feature. \n",
    "- ``\"year\"``\n",
    "    - This feature could also be important: then behaviour of certain species may be changing in response to time-dependent environmental factors such as melting ice. It does however seem like the least biologically-relevant feature, and the most likely source of bias, so we reject it."
   ]
  },
  {
   "cell_type": "markdown",
   "metadata": {},
   "source": [
    "### Task 2: creating a ``torch.utils.data.Dataset``\n",
    "\n",
    "As before, we need to create PyTorch ``Dataset`` objects to supply data to our neural network.  \n",
    "Since we have already created and explored the ``PenguinDataset`` class there is nothing else to do here."
   ]
  },
  {
   "cell_type": "markdown",
   "metadata": {},
   "source": [
    "### Task 3: Obtaining training and validation datasets.\n",
    "\n",
    "- Instantiate the penguin dataloader.\n",
    "  - Make sure you supply the correct column titles for the features and the targets.\n",
    "  - Remember, the target is now mass, not the species!\n",
    "- Iterate over the dataset\n",
    "    - Hint:\n",
    "        ```python\n",
    "        for features, targets in dataset:\n",
    "            # print the features and targets here\n",
    "        ```"
   ]
  },
  {
   "cell_type": "code",
   "execution_count": 2,
   "metadata": {},
   "outputs": [
    {
     "name": "stdout",
     "output_type": "stream",
     "text": [
      "['sex', 'bill_length_mm', 'bill_depth_mm', 'flipper_length_mm'] (5000.0,)\n",
      "['sex', 'bill_length_mm', 'bill_depth_mm', 'flipper_length_mm'] (4500.0,)\n",
      "['sex', 'bill_length_mm', 'bill_depth_mm', 'flipper_length_mm'] (5100.0,)\n",
      "['sex', 'bill_length_mm', 'bill_depth_mm', 'flipper_length_mm'] (4400.0,)\n",
      "['sex', 'bill_length_mm', 'bill_depth_mm', 'flipper_length_mm'] (4150.0,)\n",
      "['sex', 'bill_length_mm', 'bill_depth_mm', 'flipper_length_mm'] (4550.0,)\n",
      "['sex', 'bill_length_mm', 'bill_depth_mm', 'flipper_length_mm'] (4350.0,)\n",
      "['sex', 'bill_length_mm', 'bill_depth_mm', 'flipper_length_mm'] (4650.0,)\n",
      "['sex', 'bill_length_mm', 'bill_depth_mm', 'flipper_length_mm'] (4950.0,)\n",
      "['sex', 'bill_length_mm', 'bill_depth_mm', 'flipper_length_mm'] (3950.0,)\n",
      "['sex', 'bill_length_mm', 'bill_depth_mm', 'flipper_length_mm'] (4300.0,)\n",
      "['sex', 'bill_length_mm', 'bill_depth_mm', 'flipper_length_mm'] (4925.0,)\n",
      "['sex', 'bill_length_mm', 'bill_depth_mm', 'flipper_length_mm'] (4750.0,)\n",
      "['sex', 'bill_length_mm', 'bill_depth_mm', 'flipper_length_mm'] (4900.0,)\n",
      "['sex', 'bill_length_mm', 'bill_depth_mm', 'flipper_length_mm'] (4300.0,)\n",
      "['sex', 'bill_length_mm', 'bill_depth_mm', 'flipper_length_mm'] (4200.0,)\n",
      "['sex', 'bill_length_mm', 'bill_depth_mm', 'flipper_length_mm'] (4400.0,)\n",
      "['sex', 'bill_length_mm', 'bill_depth_mm', 'flipper_length_mm'] (4575.0,)\n",
      "['sex', 'bill_length_mm', 'bill_depth_mm', 'flipper_length_mm'] (4875.0,)\n",
      "['sex', 'bill_length_mm', 'bill_depth_mm', 'flipper_length_mm'] (4375.0,)\n"
     ]
    }
   ],
   "source": [
    "from ml_workshop import PenguinDataset\n",
    "\n",
    "features = [\n",
    "    \"sex\",\n",
    "    \"bill_length_mm\",\n",
    "    \"bill_depth_mm\",\n",
    "    \"flipper_length_mm\",\n",
    "]\n",
    "\n",
    "data_set = PenguinDataset(\n",
    "    input_keys=features,\n",
    "    target_keys=[\"body_mass_g\"],\n",
    "    train=True,\n",
    ")\n",
    "\n",
    "for _, (input_feats, target) in zip(range(20), data_set):\n",
    "    print(features, target)"
   ]
  },
  {
   "cell_type": "markdown",
   "metadata": {},
   "source": [
    "### Task 4: Applying transforms to the data\n",
    "\n",
    "As in the previous exercise, the raw inputs and targets need transforming to ``torch.Tensor``s before they can be passed to a neural network.  \n",
    "We will again use ``torchvision.transforms.Compose`` to take a list of callable objects and apply them to the incoming data.\n",
    "\n",
    "Because the raw units of mass are in grams, the numbers are quite large. This can encumber the model's predicitve power. A sensible way to address this is to normalise targets using statistics from the training set. The most common form of normalisation is to subtract the mean and divide by the standard deviation (of the training set). However here, for the sake of simplicity, we will just scale the mass by dividing by the mean of the training set.\n",
    "\n",
    "Note that this means that the model will now be trained to predict masses as fractions of the training mean.\n",
    "\n",
    "We grab the mean of the training split in the following cell."
   ]
  },
  {
   "cell_type": "code",
   "execution_count": 3,
   "metadata": {},
   "outputs": [],
   "source": [
    "train_set = PenguinDataset(features, [\"body_mass_g\"], train=True)\n",
    "\n",
    "training_mean = train_set.split.body_mass_g.mean()"
   ]
  },
  {
   "cell_type": "markdown",
   "metadata": {},
   "source": [
    "Now we create our real training and validation set, and supply transforms as before."
   ]
  },
  {
   "cell_type": "code",
   "execution_count": 4,
   "metadata": {},
   "outputs": [
    {
     "name": "stdout",
     "output_type": "stream",
     "text": [
      "tensor([  0.0000,  42.9000,  13.1000, 215.0000]) tensor([1.1856])\n",
      "tensor([  0.0000,  46.1000,  13.2000, 211.0000]) tensor([1.0670])\n",
      "tensor([  0.0000,  44.9000,  13.3000, 213.0000]) tensor([1.2093])\n",
      "tensor([  0.0000,  43.3000,  13.4000, 209.0000]) tensor([1.0433])\n",
      "tensor([  0.0000,  42.0000,  13.5000, 210.0000]) tensor([0.9840])\n"
     ]
    }
   ],
   "source": [
    "from torch import tensor, float32, eye\n",
    "from torchvision.transforms import Compose\n",
    "\n",
    "\n",
    "# Apply the transforms we need to the PenguinDataset to get out inputs\n",
    "# targets as Tensors.\n",
    "\n",
    "\n",
    "def get_input_transforms() -> Compose:\n",
    "    \"\"\"Return transforms which map from raw inputs to tensors.\n",
    "\n",
    "    Returns\n",
    "    -------\n",
    "    Compose\n",
    "        A composition of transforms (callable functions) to map the the tuple\n",
    "        of input features (``Tuple[float, ...]``) to a ``torch.Tensor``.\n",
    "\n",
    "    \"\"\"\n",
    "    return Compose([lambda x: tensor(x, dtype=float32)])\n",
    "\n",
    "\n",
    "def get_target_tfms() -> Compose:\n",
    "    \"\"\"Return transforms which map from the raw targets to tensors.\n",
    "\n",
    "    Returns\n",
    "    -------\n",
    "    Compose\n",
    "        A composition of transforms (callable functions) to map the the tuple\n",
    "        of target features (``Tuple[str]``) to a ``torch.Tensor``.\n",
    "\n",
    "    Notes\n",
    "    -----\n",
    "    Note the rescaling by dividing out the training mean.\n",
    "\n",
    "    \"\"\"\n",
    "    return Compose([lambda x: tensor(x, dtype=float32) / training_mean])\n",
    "\n",
    "\n",
    "train_set = PenguinDataset(\n",
    "    input_keys=features,\n",
    "    target_keys=[\"body_mass_g\"],\n",
    "    train=True,\n",
    "    x_tfms=get_input_transforms(),\n",
    "    y_tfms=get_target_tfms(),\n",
    ")\n",
    "\n",
    "\n",
    "valid_set = PenguinDataset(\n",
    "    input_keys=features,\n",
    "    target_keys=[\"body_mass_g\"],\n",
    "    train=False,\n",
    "    x_tfms=get_input_transforms(),\n",
    "    y_tfms=get_target_tfms(),\n",
    ")\n",
    "\n",
    "\n",
    "for _, (input_feats, target) in zip(range(5), train_set):\n",
    "    print(input_feats, target)"
   ]
  },
  {
   "cell_type": "markdown",
   "metadata": {},
   "source": [
    "### Task 5: Creating ``DataLoaders``—Again!\n",
    "\n",
    "As before, we wrap our ``Dataset``s in ``DataLoader`` before we proceed."
   ]
  },
  {
   "cell_type": "code",
   "execution_count": 5,
   "metadata": {},
   "outputs": [
    {
     "name": "stdout",
     "output_type": "stream",
     "text": [
      "torch.Size([16, 4]) torch.Size([16, 1])\n",
      "torch.Size([16, 4]) torch.Size([16, 1])\n",
      "torch.Size([16, 4]) torch.Size([16, 1])\n",
      "torch.Size([12, 4]) torch.Size([12, 1])\n"
     ]
    }
   ],
   "source": [
    "from torch.utils.data import DataLoader\n",
    "\n",
    "batch_size = 16\n",
    "\n",
    "train_loader = DataLoader(\n",
    "    train_set,\n",
    "    batch_size=batch_size,\n",
    "    shuffle=True,\n",
    "    drop_last=True,\n",
    ")\n",
    "\n",
    "valid_loader = DataLoader(\n",
    "    valid_set,\n",
    "    batch_size=batch_size,\n",
    "    shuffle=False,\n",
    ")\n",
    "\n",
    "for batch, targets in valid_loader:\n",
    "    print(batch.shape, targets.shape)"
   ]
  },
  {
   "cell_type": "markdown",
   "metadata": {},
   "source": [
    "### Task 6: Creating a neural network in PyTorch\n",
    "\n",
    "Previously we created our neural network from scratch, but doing this every time we need to solve a new problem is cumbersome.  \n",
    "Many projects working with the ICCS have codes where the numbers of layers, layer sizes, and other parts of the models are hard-coded from scratch every time!\n",
    "\n",
    "The result is ungainly, non-general, and heavily-duplicated code. Here, we are going to shamelessly punt Jim Denholm's Python repo, [``TorchTools``](https://github.com/jdenholm/TorchTools), which contains generalisations of many commonly-used PyTorch tools, to save save us some time.\n",
    "\n",
    "Here, we can use the ``FCNet`` model, whose documentation lives [here](https://jdenholm.github.io/TorchTools/models.html). This model is a fully-connected neural network with various options for dropout, batch normalisation, and easily-modifiable layers.\n",
    "\n",
    "#### A brief sidebar\n",
    "Note: the repo is pip-installable with\n",
    "```bash\n",
    "pip install git+https://github.com/jdenholm/TorchTools.git\n",
    "```\n",
    "but has already been installed for you in the requirements of this workshop package.\n",
    "\n",
    "It is useful to know you can install Python packages from GitHub using pip. To install specific versions you can use:\n",
    "```bash\n",
    "pip install git+https://github.com/jdenholm/TorchTools.git@v0.1.0\n",
    "```\n",
    "(The famous [segment anything model](https://github.com/facebookresearch/segment-anything) (SAM) published by Facebook Research was released in this way.)\n",
    "\n",
    "One might argue that this is a much better way of making one-off codes available, for example academic codes which might accompany papers, rather than using the global communal package index PyPI."
   ]
  },
  {
   "cell_type": "markdown",
   "metadata": {},
   "source": [
    "##### Back to work: let's instantiate the model."
   ]
  },
  {
   "cell_type": "code",
   "execution_count": 6,
   "metadata": {},
   "outputs": [
    {
     "name": "stdout",
     "output_type": "stream",
     "text": [
      "FCNet(\n",
      "  (0): InputBlock(\n",
      "    (0): BatchNorm1d(4, eps=1e-05, momentum=0.1, affine=True, track_running_stats=True)\n",
      "    (1): Dropout(p=0.25, inplace=False)\n",
      "  )\n",
      "  (1): DenseBlock(\n",
      "    (0): Linear(in_features=4, out_features=16, bias=True)\n",
      "    (1): BatchNorm1d(16, eps=1e-05, momentum=0.1, affine=True, track_running_stats=True)\n",
      "    (2): Dropout(p=0.1, inplace=False)\n",
      "    (3): LeakyReLU(negative_slope=0.1)\n",
      "  )\n",
      "  (2): DenseBlock(\n",
      "    (0): Linear(in_features=16, out_features=8, bias=True)\n",
      "    (1): BatchNorm1d(8, eps=1e-05, momentum=0.1, affine=True, track_running_stats=True)\n",
      "    (2): Dropout(p=0.1, inplace=False)\n",
      "    (3): LeakyReLU(negative_slope=0.1)\n",
      "  )\n",
      "  (3): DenseBlock(\n",
      "    (0): Linear(in_features=8, out_features=4, bias=True)\n",
      "    (1): BatchNorm1d(4, eps=1e-05, momentum=0.1, affine=True, track_running_stats=True)\n",
      "    (2): Dropout(p=0.1, inplace=False)\n",
      "    (3): LeakyReLU(negative_slope=0.1)\n",
      "  )\n",
      "  (4): DenseBlock(\n",
      "    (0): Linear(in_features=4, out_features=2, bias=True)\n",
      "    (1): BatchNorm1d(2, eps=1e-05, momentum=0.1, affine=True, track_running_stats=True)\n",
      "    (2): Dropout(p=0.1, inplace=False)\n",
      "    (3): LeakyReLU(negative_slope=0.1)\n",
      "  )\n",
      "  (5): DenseBlock(\n",
      "    (0): Linear(in_features=2, out_features=1, bias=True)\n",
      "  )\n",
      ")\n"
     ]
    }
   ],
   "source": [
    "from torch_tools import FCNet\n",
    "\n",
    "model = FCNet(\n",
    "    in_feats=4,\n",
    "    out_feats=1,\n",
    "    hidden_sizes=(16, 8, 4, 2),\n",
    "    input_bnorm=True,\n",
    "    input_dropout=0.25,\n",
    "    hidden_dropout=0.1,\n",
    "    hidden_bnorm=True,\n",
    ")\n",
    "print(model)"
   ]
  },
  {
   "cell_type": "markdown",
   "metadata": {},
   "source": [
    "### Task 7: Selecting a loss function\n",
    "\n",
    "The previous loss function we chose was appopriate for classification, but _not_ regression.  \n",
    "Here we'll use the mean-squared-error loss, which is more appropriate for regression."
   ]
  },
  {
   "cell_type": "code",
   "execution_count": 7,
   "metadata": {},
   "outputs": [],
   "source": [
    "from torch.nn import MSELoss\n",
    "\n",
    "loss_func = MSELoss()"
   ]
  },
  {
   "cell_type": "markdown",
   "metadata": {},
   "source": [
    "### Task 8: Selecting an optimiser\n",
    "\n",
    "``Adam`` is regarded as the king of optimisers: let's use it again, but this time with a learning rate.\n",
    "\n",
    "[Adam docs](https://pytorch.org/docs/stable/generated/torch.optim.Adam.html)."
   ]
  },
  {
   "cell_type": "code",
   "execution_count": 8,
   "metadata": {},
   "outputs": [],
   "source": [
    "# Create an optimiser and give it the model's parameters.\n",
    "from torch.optim import Adam\n",
    "\n",
    "optimiser = Adam(model.parameters(), lr=1e-3)"
   ]
  },
  {
   "cell_type": "markdown",
   "metadata": {},
   "source": [
    "### Task 9: Writing basic training and validation loops\n",
    "\n",
    "\n",
    "As before, we will write the training loop together and you can then continue with the validation loop.\n"
   ]
  },
  {
   "cell_type": "code",
   "execution_count": 9,
   "metadata": {},
   "outputs": [],
   "source": [
    "from typing import Dict\n",
    "from torch.nn import Module\n",
    "from torch import Tensor, no_grad\n",
    "from numpy import mean, sqrt\n",
    "\n",
    "\n",
    "def train_one_epoch(\n",
    "    model: Module,\n",
    "    train_loader: DataLoader,\n",
    "    optimiser: Adam,\n",
    "    loss_func: MSELoss,\n",
    ") -> Dict[str, float]:\n",
    "    \"\"\"Train ``model`` for once epoch.\n",
    "\n",
    "    Parameters\n",
    "    ----------\n",
    "    model : Module\n",
    "        The neural network.\n",
    "    train_loader : DataLoader\n",
    "        Training dataloader.\n",
    "    optimiser : Adam\n",
    "        The optimiser.\n",
    "    loss_func : MSELoss\n",
    "        Mean squared error loss function.\n",
    "\n",
    "    Returns\n",
    "    -------\n",
    "    Dict[str, float]\n",
    "        A dictionary of metrics.\n",
    "\n",
    "    Notes\n",
    "    -----\n",
    "    - The ``model.train()`` is very important:\n",
    "        - it turns on the dropout layers.\n",
    "        - it tells the batch norm layers to use the incoming statistics, and let them contribute to their \"memory\".\n",
    "\n",
    "    \"\"\"\n",
    "    model.train()\n",
    "    metrics: Dict[str, float] = {\"loss\": []}\n",
    "\n",
    "    for batch, targets in train_loader:\n",
    "        optimiser.zero_grad()\n",
    "\n",
    "        preds = model(batch)\n",
    "\n",
    "        loss = loss_func(preds, targets)\n",
    "\n",
    "        loss.backward()\n",
    "\n",
    "        optimiser.step()\n",
    "\n",
    "        metrics[\"loss\"].append(loss.item())\n",
    "\n",
    "    return {key: mean(val) for key, val in metrics.items()}\n",
    "\n",
    "\n",
    "@no_grad()\n",
    "def validate_one_epoch(\n",
    "    model: Module,\n",
    "    valid_loader: DataLoader,\n",
    "    loss_func: MSELoss,\n",
    ") -> Dict[str, float]:\n",
    "    \"\"\"Validate ``model`` for a single epoch.\n",
    "\n",
    "    Parameters\n",
    "    ----------\n",
    "    model : Module\n",
    "        The neural network.\n",
    "    valid_loader : DataLoader\n",
    "        Validation dataloader.\n",
    "    loss_func : MSELoss\n",
    "        Mean squared error loss function.\n",
    "\n",
    "    Returns\n",
    "    -------\n",
    "    Dict[str, float]\n",
    "        Metrics of interest.\n",
    "\n",
    "    Notes\n",
    "    -----\n",
    "    - The ``model.eval()`` is also very important:\n",
    "        - It turns off the dropout layers, which are likely to impair the validation performance and render it unrealistically poor.\n",
    "        - It tells the batchnorm layers to _not_ use the batch's statistics,\n",
    "        and to instead use the stats it has built up from the training set. The model should not \"remember\" anything from the validation set.\n",
    "    - We also protect this function with ``torch.no_grad()``, because having gradients enable while validating is a pointless waste of resources—they are only needed for training.\n",
    "\n",
    "    \"\"\"\n",
    "    model.eval()\n",
    "    metrics: Dict[str, float] = {\"loss\": []}\n",
    "\n",
    "    for batch, targets in valid_loader:\n",
    "        preds = model(batch)\n",
    "\n",
    "        loss = loss_func(preds, targets)\n",
    "\n",
    "        metrics[\"loss\"].append(loss.item())\n",
    "\n",
    "    return {key: mean(val) for key, val in metrics.items()}"
   ]
  },
  {
   "cell_type": "markdown",
   "metadata": {},
   "source": [
    "### Task 10: Training and extracting metrics\n",
    "\n",
    "- Now we can train our model for a specified number of epochs.\n",
    "  - During each epoch the model \"sees\" each training item once.\n",
    "- Append the training and validation metrics to a list.\n",
    "- Turm them into a ``pandas.DataFrame``\n",
    "  - Note: You can turn a ``List[Dict[str, float]]``, say ``my_list`` into a ``DataFrame`` with ``DataFrame(my_list)``."
   ]
  },
  {
   "cell_type": "code",
   "execution_count": 10,
   "metadata": {},
   "outputs": [
    {
     "name": "stdout",
     "output_type": "stream",
     "text": [
      "Epoch 0 \t 0.215 seconds \t Valid Loss = 1.7032.\n",
      "Epoch 10 \t 0.172 seconds \t Valid Loss = 0.6962.\n",
      "Epoch 20 \t 0.173 seconds \t Valid Loss = 0.1980.\n",
      "Epoch 30 \t 0.171 seconds \t Valid Loss = 0.1256.\n",
      "Epoch 40 \t 0.171 seconds \t Valid Loss = 0.0798.\n",
      "Epoch 50 \t 0.172 seconds \t Valid Loss = 0.0716.\n",
      "Epoch 60 \t 0.172 seconds \t Valid Loss = 0.0617.\n",
      "Epoch 70 \t 0.172 seconds \t Valid Loss = 0.0506.\n",
      "Epoch 80 \t 0.172 seconds \t Valid Loss = 0.0528.\n",
      "Epoch 90 \t 0.171 seconds \t Valid Loss = 0.0443.\n",
      "Epoch 100 \t 0.171 seconds \t Valid Loss = 0.0448.\n",
      "Epoch 110 \t 0.171 seconds \t Valid Loss = 0.0396.\n",
      "Epoch 120 \t 0.171 seconds \t Valid Loss = 0.0363.\n",
      "Epoch 130 \t 0.171 seconds \t Valid Loss = 0.0381.\n",
      "Epoch 140 \t 0.171 seconds \t Valid Loss = 0.0324.\n",
      "Epoch 150 \t 0.171 seconds \t Valid Loss = 0.0272.\n",
      "Epoch 160 \t 0.171 seconds \t Valid Loss = 0.0213.\n",
      "Epoch 170 \t 0.171 seconds \t Valid Loss = 0.0210.\n",
      "Epoch 180 \t 0.171 seconds \t Valid Loss = 0.0179.\n",
      "Epoch 190 \t 0.173 seconds \t Valid Loss = 0.0185.\n",
      "\n",
      "\n",
      "     loss_train  loss_valid\n",
      "0      1.959217    1.703167\n",
      "1      1.679813    2.034752\n",
      "2      1.506878    1.823231\n",
      "3      1.319360    1.565340\n",
      "4      1.262722    1.461631\n",
      "..          ...         ...\n",
      "195    0.033906    0.016302\n",
      "196    0.031433    0.015598\n",
      "197    0.035795    0.016132\n",
      "198    0.036828    0.016387\n",
      "199    0.037099    0.017189\n",
      "\n",
      "[200 rows x 2 columns]\n"
     ]
    }
   ],
   "source": [
    "from time import perf_counter\n",
    "from pandas import DataFrame\n",
    "\n",
    "epochs = 200\n",
    "\n",
    "train_metrics, valid_metrics = [], []\n",
    "\n",
    "for epoch in range(epochs):\n",
    "    start_time = perf_counter()\n",
    "\n",
    "    train_metrics.append(train_one_epoch(model, train_loader, optimiser, loss_func))\n",
    "\n",
    "    valid_metrics.append(validate_one_epoch(model, valid_loader, loss_func))\n",
    "\n",
    "    stop_time = perf_counter()\n",
    "\n",
    "    if epoch % 10 == 0:\n",
    "        print(\n",
    "            f\"Epoch {epoch} \\t {stop_time - start_time:.3f} seconds \\t Valid Loss = {valid_metrics[-1]['loss']:.4f}.\"\n",
    "        )\n",
    "\n",
    "print(\"\\n\")\n",
    "\n",
    "train_metrics = DataFrame(train_metrics)\n",
    "valid_metrics = DataFrame(valid_metrics)\n",
    "\n",
    "metrics = train_metrics.join(valid_metrics, lsuffix=\"_train\", rsuffix=\"_valid\")\n",
    "\n",
    "print(metrics)"
   ]
  },
  {
   "cell_type": "markdown",
   "metadata": {},
   "source": [
    "### Task 11: Plotting metrics\n",
    "\n",
    "- Use Matplotlib to plot the training and validation metrics as a function of the number of epochs.\n",
    "- Does this allow us to interpret performance?"
   ]
  },
  {
   "cell_type": "code",
   "execution_count": 11,
   "metadata": {},
   "outputs": [
    {
     "data": {
      "image/png": "[encoded data removed]",
      "text/plain": [
       "<Figure size 800x400 with 1 Axes>"
      ]
     },
     "metadata": {},
     "output_type": "display_data"
    }
   ],
   "source": [
    "import matplotlib.pyplot as plt\n",
    "from numpy import linspace\n",
    "\n",
    "\n",
    "quantities = [\"loss\", \"ratio\"]\n",
    "fig, axis = plt.subplots(1, 1, figsize=(8, 4))\n",
    "\n",
    "\n",
    "axis.plot(metrics.loss_train, \"-o\", label=\"Train\")\n",
    "axis.plot(metrics.loss_valid, \"-o\", label=\"Valid\")\n",
    "\n",
    "# for axis in axes.ravel():\n",
    "axis.legend(fontsize=15)\n",
    "axis.set_ylim(bottom=0.0, top=1.25)\n",
    "axis.set_xlim(left=0, right=epochs)\n",
    "axis.set_xlabel(\"Epoch\", fontsize=15)\n",
    "axis.set_ylabel(\"Loss (MSE)\", fontsize=15)\n",
    "\n",
    "fig.tight_layout()"
   ]
  },
  {
   "cell_type": "markdown",
   "metadata": {},
   "source": [
    "While this losses have decreased nicely, MSE isn't the most easily interpretable way to evaluate the model's performance. We could instead look at the ratio of the predictions  targets—and in particular, the distribution of this quantity."
   ]
  },
  {
   "cell_type": "code",
   "execution_count": 12,
   "metadata": {},
   "outputs": [
    {
     "name": "stdout",
     "output_type": "stream",
     "text": [
      "torch.Size([60])\n"
     ]
    },
    {
     "data": {
      "image/png": "[encoded data removed]",
      "text/plain": [
       "<Figure size 640x480 with 1 Axes>"
      ]
     },
     "metadata": {},
     "output_type": "display_data"
    }
   ],
   "source": [
    "from torch import concat\n",
    "\n",
    "model.eval()\n",
    "\n",
    "pred_list = []\n",
    "\n",
    "for batch, target in valid_loader:\n",
    "    with no_grad():\n",
    "        pred_list.append(model(batch) / target)\n",
    "\n",
    "all_preds = concat(pred_list).flatten()\n",
    "print(all_preds.shape)\n",
    "\n",
    "fig, axis = plt.subplots(1, 1)\n",
    "\n",
    "axis.hist(all_preds, bins=10)\n",
    "axis.set_xlabel(\"Prediction:target ratio\")\n",
    "axis.set_ylabel(\"Frequency\")\n",
    "\n",
    "\n",
    "plt.show()"
   ]
  }
 ],
 "metadata": {
  "kernelspec": {
   "display_name": "Python 3 (ipykernel)",
   "language": "python",
   "name": "python3"
  },
  "language_info": {
   "codemirror_mode": {
    "name": "ipython",
    "version": 3
   },
   "file_extension": ".py",
   "mimetype": "text/x-python",
   "name": "python",
   "nbconvert_exporter": "python",
   "pygments_lexer": "ipython3",
   "version": "3.11.4"
  }
 },
 "nbformat": 4,
 "nbformat_minor": 2
}
